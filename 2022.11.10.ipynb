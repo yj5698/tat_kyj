{
  "nbformat": 4,
  "nbformat_minor": 0,
  "metadata": {
    "colab": {
      "provenance": [],
      "authorship_tag": "ABX9TyOMd8fENUtQga7p6DKxvuXP",
      "include_colab_link": true
    },
    "kernelspec": {
      "name": "python3",
      "display_name": "Python 3"
    },
    "language_info": {
      "name": "python"
    }
  },
  "cells": [
    {
      "cell_type": "markdown",
      "metadata": {
        "id": "view-in-github",
        "colab_type": "text"
      },
      "source": [
        "<a href=\"https://colab.research.google.com/github/yj5698/tat_kyj/blob/main/2022.11.10.ipynb\" target=\"_parent\"><img src=\"https://colab.research.google.com/assets/colab-badge.svg\" alt=\"Open In Colab\"/></a>"
      ]
    },
    {
      "cell_type": "code",
      "execution_count": 3,
      "metadata": {
        "id": "2pZ1a33sAAy7",
        "outputId": "97067ede-3147-48a0-ab05-1c63b4609fdb",
        "colab": {
          "base_uri": "https://localhost:8080/"
        }
      },
      "outputs": [
        {
          "output_type": "stream",
          "name": "stdout",
          "text": [
            "Looking in indexes: https://pypi.org/simple, https://us-python.pkg.dev/colab-wheels/public/simple/\n",
            "Collecting gpxpy\n",
            "  Downloading gpxpy-1.5.0.tar.gz (111 kB)\n",
            "\u001b[?25l\r\u001b[K     |███                             | 10 kB 34.8 MB/s eta 0:00:01\r\u001b[K     |█████▉                          | 20 kB 36.8 MB/s eta 0:00:01\r\u001b[K     |████████▉                       | 30 kB 43.5 MB/s eta 0:00:01\r\u001b[K     |███████████▊                    | 40 kB 48.7 MB/s eta 0:00:01\r\u001b[K     |██████████████▊                 | 51 kB 53.4 MB/s eta 0:00:01\r\u001b[K     |█████████████████▋              | 61 kB 58.5 MB/s eta 0:00:01\r\u001b[K     |████████████████████▌           | 71 kB 40.5 MB/s eta 0:00:01\r\u001b[K     |███████████████████████▌        | 81 kB 41.9 MB/s eta 0:00:01\r\u001b[K     |██████████████████████████▍     | 92 kB 44.6 MB/s eta 0:00:01\r\u001b[K     |█████████████████████████████▍  | 102 kB 45.8 MB/s eta 0:00:01\r\u001b[K     |████████████████████████████████| 111 kB 45.8 MB/s \n",
            "\u001b[?25hBuilding wheels for collected packages: gpxpy\n",
            "  Building wheel for gpxpy (setup.py) ... \u001b[?25l\u001b[?25hdone\n",
            "  Created wheel for gpxpy: filename=gpxpy-1.5.0-py3-none-any.whl size=42901 sha256=c19b69f59987d122385839503e28840d8f5e8ab4d067cd9e52ed84fd4d4a8316\n",
            "  Stored in directory: /root/.cache/pip/wheels/78/49/b6/d1851fcb4ee10fa784325d7fcf6c97789157c706ab3a71e2b6\n",
            "Successfully built gpxpy\n",
            "Installing collected packages: gpxpy\n",
            "Successfully installed gpxpy-1.5.0\n"
          ]
        }
      ],
      "source": [
        "#Importing Libraries\n",
        "# pip3 install graphviz\n",
        "#pip3 install dask\n",
        "#pip3 install toolz\n",
        "#pip3 install cloudpickle\n",
        "# https://www.youtube.com/watch?v=ieW3G7ZzRZ0\n",
        "# https://github.com/dask/dask-tutorial\n",
        "# please do go through this python notebook: https://github.com/dask/dask-tutorial/blob/master/07_dataframe.ipynb\n",
        "import dask.dataframe as dd#similar to pandas\n",
        "\n",
        "import pandas as pd#pandas to create small dataframes \n",
        "\n",
        "# pip3 install folium\n",
        "import folium #open street map\n",
        "\n",
        "# unix time: https://www.unixtimestamp.com/\n",
        "import datetime #Convert to unix time\n",
        "\n",
        "import time #Convert to unix time\n",
        "\n",
        "# if numpy is not installed already : pip3 install numpy\n",
        "import numpy as np#Do aritmetic operations on arrays\n",
        "\n",
        "# matplotlib: used to plot graphs\n",
        "import matplotlib\n",
        "# matplotlib.use('nbagg') : matplotlib uses this protocall which makes plots more user intractive like zoom in and zoom out\n",
        "matplotlib.use('nbagg')\n",
        "import matplotlib.pylab as plt\n",
        "import seaborn as sns#Plots\n",
        "from matplotlib import rcParams#Size of plots  \n",
        "\n",
        "# this lib is used while we calculate the stight line distance between two (lat,lon) pairs in miles\n",
        "! pip3 install gpxpy\n",
        "import gpxpy.geo #Get the haversine distance\n",
        "\n",
        "from sklearn.cluster import MiniBatchKMeans, KMeans#Clustering\n",
        "import math\n",
        "import pickle\n",
        "import os\n",
        "\n",
        "# download migwin: https://mingw-w64.org/doku.php/download/mingw-builds\n",
        "# install it in your system and keep the path, migw_path ='installed path'\n",
        "mingw_path = 'C:\\\\Program Files\\\\mingw-w64\\\\x86_64-5.3.0-posix-seh-rt_v4-rev0\\\\mingw64\\\\bin'\n",
        "os.environ['PATH'] = mingw_path + ';' + os.environ['PATH']\n",
        "\n",
        "# to install xgboost: pip3 install xgboost\n",
        "# if it didnt happen check install_xgboost.JPG\n",
        "import xgboost as xgb\n",
        "\n",
        "# to install sklearn: pip install -U scikit-learn\n",
        "from sklearn.ensemble import RandomForestRegressor\n",
        "from sklearn.metrics import mean_squared_error\n",
        "from sklearn.metrics import mean_absolute_error\n",
        "import warnings\n",
        "warnings.filterwarnings(\"ignore\")"
      ]
    },
    {
      "cell_type": "code",
      "source": [],
      "metadata": {
        "id": "n3mcS4v7FM0w"
      },
      "execution_count": null,
      "outputs": []
    }
  ]
}