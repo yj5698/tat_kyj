{
  "nbformat": 4,
  "nbformat_minor": 0,
  "metadata": {
    "colab": {
      "provenance": [],
      "authorship_tag": "ABX9TyO55yN2/inJD3BH7/aMO2cf",
      "include_colab_link": true
    },
    "kernelspec": {
      "name": "python3",
      "display_name": "Python 3"
    },
    "language_info": {
      "name": "python"
    }
  },
  "cells": [
    {
      "cell_type": "markdown",
      "metadata": {
        "id": "view-in-github",
        "colab_type": "text"
      },
      "source": [
        "<a href=\"https://colab.research.google.com/github/yj5698/tat_kyj/blob/main/%EC%9C%A0%EC%A0%95_xor_%EB%B6%84%EB%A5%98.ipynb\" target=\"_parent\"><img src=\"https://colab.research.google.com/assets/colab-badge.svg\" alt=\"Open In Colab\"/></a>"
      ]
    },
    {
      "cell_type": "markdown",
      "source": [
        "XOR 분류"
      ],
      "metadata": {
        "id": "g_igwB9Crx10"
      }
    },
    {
      "cell_type": "markdown",
      "source": [
        "정해진 가중치와 바이어스를 numpy 라이브러리를 사용해 다음과 같이 선언"
      ],
      "metadata": {
        "id": "N5dgkH_-s8by"
      }
    },
    {
      "cell_type": "code",
      "execution_count": 1,
      "metadata": {
        "id": "d-_qzKlCru2g"
      },
      "outputs": [],
      "source": [
        "import numpy as np\n",
        " \n",
        "w11 = np.array([-2, -2])\n",
        "w12 = np.array([2, 2])\n",
        "w2 = np.array([1, 1])\n",
        "b1 = 3\n",
        "b2 = -1\n",
        "b3 = -1"
      ]
    },
    {
      "cell_type": "markdown",
      "source": [
        "이제 퍼셉트론 함수를 만들어 줍니다. 0과 1 중에서 값을 출력하도록 설정"
      ],
      "metadata": {
        "id": "yQnnHQGUs_dn"
      }
    },
    {
      "cell_type": "code",
      "source": [
        "def MLP(x, w, b):\n",
        "    y = np.sum(w * x) + b\n",
        "    if y <= 0:\n",
        "        return 0\n",
        "    else:\n",
        "        return 1"
      ],
      "metadata": {
        "id": "NwhXQNPRsIEz"
      },
      "execution_count": 2,
      "outputs": []
    },
    {
      "cell_type": "markdown",
      "source": [
        "각 게이트의 정의에 따라 NAND 게이트, OR 게이트, AND 게이트, XOR 게이트 함수 정의"
      ],
      "metadata": {
        "id": "G8eEKvNTtA6P"
      }
    },
    {
      "cell_type": "code",
      "source": [
        "# NAND 게이트\n",
        "def NAND(x1, x2):\n",
        "    return MLP(np.array([x1, x2]), w11, b1)\n",
        " \n",
        "# OR 게이트\n",
        "def OR(x1, x2):\n",
        "    return MLP(np.array([x1, x2]), w12, b2)\n",
        " \n",
        "# AND 게이트\n",
        "def AND(x1, x2):\n",
        "    return MLP(np.array([x1, x2]), w2, b3)\n",
        " \n",
        "# XOR 게이트\n",
        "def XOR(x1, x2):\n",
        "    return AND(NAND(x1, x2),OR(x1, x2))"
      ],
      "metadata": {
        "id": "uQgCmO0tsKoH"
      },
      "execution_count": 3,
      "outputs": []
    },
    {
      "cell_type": "markdown",
      "source": [
        "이제 x1과 x2 값을 번갈아 대입하며 최종 값을 출력해"
      ],
      "metadata": {
        "id": "GrjPejgjtIX9"
      }
    },
    {
      "cell_type": "code",
      "source": [
        "if __name__ == '__main__':\n",
        "    for x in [(0, 0), (1, 0), (0, 1), (1, 1)]:\n",
        "        y = XOR(x[0], x[1])\n",
        "        print(\"입력 값: \" + str(x) + \" 출력 값: \" + str(y))"
      ],
      "metadata": {
        "colab": {
          "base_uri": "https://localhost:8080/"
        },
        "id": "F09ltw-msLYT",
        "outputId": "b5bb7de7-1e8b-4953-9aa1-a80b6db5b996"
      },
      "execution_count": 8,
      "outputs": [
        {
          "output_type": "stream",
          "name": "stdout",
          "text": [
            "입력 값: (0, 0) 출력 값: 0\n",
            "입력 값: (1, 0) 출력 값: 1\n",
            "입력 값: (0, 1) 출력 값: 1\n",
            "입력 값: (1, 1) 출력 값: 0\n"
          ]
        }
      ]
    }
  ]
}